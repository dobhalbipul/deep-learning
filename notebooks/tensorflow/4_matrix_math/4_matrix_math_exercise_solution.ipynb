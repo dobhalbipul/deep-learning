{
 "cells": [
  {
   "cell_type": "markdown",
   "metadata": {},
   "source": [
    "### Exercise 1: Convert USD revenues to INR\n",
    "\n",
    "<img src=\"revenue_usd.jpg\"  width=\"400\" />"
   ]
  },
  {
   "cell_type": "markdown",
   "metadata": {},
   "source": [
    "### Solution 1 - Using dataframe for better visualization"
   ]
  },
  {
   "cell_type": "code",
   "execution_count": 119,
   "metadata": {},
   "outputs": [
    {
     "data": {
      "text/html": [
       "<div>\n",
       "<style scoped>\n",
       "    .dataframe tbody tr th:only-of-type {\n",
       "        vertical-align: middle;\n",
       "    }\n",
       "\n",
       "    .dataframe tbody tr th {\n",
       "        vertical-align: top;\n",
       "    }\n",
       "\n",
       "    .dataframe thead th {\n",
       "        text-align: right;\n",
       "    }\n",
       "</style>\n",
       "<table border=\"1\" class=\"dataframe\">\n",
       "  <thead>\n",
       "    <tr style=\"text-align: right;\">\n",
       "      <th></th>\n",
       "      <th>Companies</th>\n",
       "      <th>FY 2018</th>\n",
       "      <th>FY 2019</th>\n",
       "      <th>FY 2020</th>\n",
       "    </tr>\n",
       "  </thead>\n",
       "  <tbody>\n",
       "    <tr>\n",
       "      <th>0</th>\n",
       "      <td>Reliance</td>\n",
       "      <td>200</td>\n",
       "      <td>220</td>\n",
       "      <td>250</td>\n",
       "    </tr>\n",
       "    <tr>\n",
       "      <th>1</th>\n",
       "      <td>Infosys</td>\n",
       "      <td>68</td>\n",
       "      <td>79</td>\n",
       "      <td>105</td>\n",
       "    </tr>\n",
       "    <tr>\n",
       "      <th>2</th>\n",
       "      <td>TCS</td>\n",
       "      <td>110</td>\n",
       "      <td>140</td>\n",
       "      <td>180</td>\n",
       "    </tr>\n",
       "    <tr>\n",
       "      <th>3</th>\n",
       "      <td>Wipro</td>\n",
       "      <td>80</td>\n",
       "      <td>85</td>\n",
       "      <td>90</td>\n",
       "    </tr>\n",
       "  </tbody>\n",
       "</table>\n",
       "</div>"
      ],
      "text/plain": [
       "  Companies  FY 2018  FY 2019  FY 2020\n",
       "0  Reliance      200      220      250\n",
       "1   Infosys       68       79      105\n",
       "2       TCS      110      140      180\n",
       "3     Wipro       80       85       90"
      ]
     },
     "execution_count": 119,
     "metadata": {},
     "output_type": "execute_result"
    }
   ],
   "source": [
    "# visualise the data in tabular form using pandas\n",
    "import pandas as pd\n",
    "revenue_data = {\n",
    "    'Companies': ['Reliance', 'Infosys', 'TCS', 'Wipro'],\n",
    "    'FY 2018': [200,68,110,80],\n",
    "    'FY 2019': [220,79,140,85],\n",
    "    'FY 2020': [250,105,180,90]\n",
    "}\n",
    "df = pd.DataFrame(revenue_data)\n",
    "df"
   ]
  },
  {
   "cell_type": "code",
   "execution_count": 121,
   "metadata": {},
   "outputs": [],
   "source": [
    "df1 = df.copy() # create a copy of the dataframe for backup"
   ]
  },
  {
   "cell_type": "code",
   "execution_count": null,
   "metadata": {},
   "outputs": [
    {
     "data": {
      "text/html": [
       "<div>\n",
       "<style scoped>\n",
       "    .dataframe tbody tr th:only-of-type {\n",
       "        vertical-align: middle;\n",
       "    }\n",
       "\n",
       "    .dataframe tbody tr th {\n",
       "        vertical-align: top;\n",
       "    }\n",
       "\n",
       "    .dataframe thead th {\n",
       "        text-align: right;\n",
       "    }\n",
       "</style>\n",
       "<table border=\"1\" class=\"dataframe\">\n",
       "  <thead>\n",
       "    <tr style=\"text-align: right;\">\n",
       "      <th></th>\n",
       "      <th>Companies</th>\n",
       "      <th>FY 2018</th>\n",
       "      <th>FY 2019</th>\n",
       "      <th>FY 2020</th>\n",
       "    </tr>\n",
       "  </thead>\n",
       "  <tbody>\n",
       "    <tr>\n",
       "      <th>0</th>\n",
       "      <td>Reliance</td>\n",
       "      <td>17000</td>\n",
       "      <td>18700</td>\n",
       "      <td>21250</td>\n",
       "    </tr>\n",
       "    <tr>\n",
       "      <th>1</th>\n",
       "      <td>Infosys</td>\n",
       "      <td>5780</td>\n",
       "      <td>6715</td>\n",
       "      <td>8925</td>\n",
       "    </tr>\n",
       "    <tr>\n",
       "      <th>2</th>\n",
       "      <td>TCS</td>\n",
       "      <td>9350</td>\n",
       "      <td>11900</td>\n",
       "      <td>15300</td>\n",
       "    </tr>\n",
       "    <tr>\n",
       "      <th>3</th>\n",
       "      <td>Wipro</td>\n",
       "      <td>6800</td>\n",
       "      <td>7225</td>\n",
       "      <td>7650</td>\n",
       "    </tr>\n",
       "  </tbody>\n",
       "</table>\n",
       "</div>"
      ],
      "text/plain": [
       "  Companies  FY 2018  FY 2019  FY 2020\n",
       "0  Reliance    17000    18700    21250\n",
       "1   Infosys     5780     6715     8925\n",
       "2       TCS     9350    11900    15300\n",
       "3     Wipro     6800     7225     7650"
      ]
     },
     "execution_count": 24,
     "metadata": {},
     "output_type": "execute_result"
    }
   ],
   "source": [
    "# Conversion rate\n",
    "inr_to_usd = 85  \n",
    "\n",
    "# Convert all revenue columns to USD\n",
    "df.iloc[:, 1:] = df.iloc[:, 1:] * inr_to_usd # Multiply all columns except the first one by the conversion rate\n",
    "df"
   ]
  },
  {
   "cell_type": "code",
   "execution_count": 27,
   "metadata": {},
   "outputs": [
    {
     "data": {
      "image/png": "[encoded data removed]",
      "text/plain": [
       "<Figure size 600x400 with 1 Axes>"
      ]
     },
     "metadata": {},
     "output_type": "display_data"
    }
   ],
   "source": [
    "# Plot revenue over the years for each company in USD\n",
    "import matplotlib.pyplot as plt\n",
    "df.set_index('Companies').plot(kind='bar', figsize=(6,4))\n",
    "\n",
    "plt.title(\"Company Revenue Over 3 Years (in USD)\")\n",
    "plt.xlabel(\"Companies\")\n",
    "plt.ylabel(\"Revenue (USD)\")\n",
    "plt.legend(title=\"Years\")\n",
    "plt.grid(axis='y', linestyle='--', alpha=0.7)\n",
    "plt.show()"
   ]
  },
  {
   "cell_type": "code",
   "execution_count": 112,
   "metadata": {},
   "outputs": [
    {
     "data": {
      "text/html": [
       "<div>\n",
       "<style scoped>\n",
       "    .dataframe tbody tr th:only-of-type {\n",
       "        vertical-align: middle;\n",
       "    }\n",
       "\n",
       "    .dataframe tbody tr th {\n",
       "        vertical-align: top;\n",
       "    }\n",
       "\n",
       "    .dataframe thead th {\n",
       "        text-align: right;\n",
       "    }\n",
       "</style>\n",
       "<table border=\"1\" class=\"dataframe\">\n",
       "  <thead>\n",
       "    <tr style=\"text-align: right;\">\n",
       "      <th></th>\n",
       "      <th>Companies</th>\n",
       "      <th>FY 2018</th>\n",
       "      <th>FY 2019</th>\n",
       "      <th>FY 2020</th>\n",
       "      <th>Total Revenue (USD)</th>\n",
       "    </tr>\n",
       "  </thead>\n",
       "  <tbody>\n",
       "    <tr>\n",
       "      <th>0</th>\n",
       "      <td>Reliance</td>\n",
       "      <td>17000</td>\n",
       "      <td>18700</td>\n",
       "      <td>21250</td>\n",
       "      <td>113900</td>\n",
       "    </tr>\n",
       "    <tr>\n",
       "      <th>1</th>\n",
       "      <td>Infosys</td>\n",
       "      <td>5780</td>\n",
       "      <td>6715</td>\n",
       "      <td>8925</td>\n",
       "      <td>42840</td>\n",
       "    </tr>\n",
       "    <tr>\n",
       "      <th>2</th>\n",
       "      <td>TCS</td>\n",
       "      <td>9350</td>\n",
       "      <td>11900</td>\n",
       "      <td>15300</td>\n",
       "      <td>73100</td>\n",
       "    </tr>\n",
       "    <tr>\n",
       "      <th>3</th>\n",
       "      <td>Wipro</td>\n",
       "      <td>6800</td>\n",
       "      <td>7225</td>\n",
       "      <td>7650</td>\n",
       "      <td>43350</td>\n",
       "    </tr>\n",
       "  </tbody>\n",
       "</table>\n",
       "</div>"
      ],
      "text/plain": [
       "  Companies  FY 2018  FY 2019  FY 2020  Total Revenue (USD)\n",
       "0  Reliance    17000    18700    21250               113900\n",
       "1   Infosys     5780     6715     8925                42840\n",
       "2       TCS     9350    11900    15300                73100\n",
       "3     Wipro     6800     7225     7650                43350"
      ]
     },
     "execution_count": 112,
     "metadata": {},
     "output_type": "execute_result"
    }
   ],
   "source": [
    "# Add total revenue in USD\n",
    "df['Total Revenue (USD)'] = df.iloc[:, 1:].sum(axis=1)\n",
    "\n",
    "# Display updated table\n",
    "df"
   ]
  },
  {
   "cell_type": "markdown",
   "metadata": {},
   "source": [
    "### Solution 2 - Using numpy but have to tracke the individual row/column labels"
   ]
  },
  {
   "cell_type": "code",
   "execution_count": null,
   "metadata": {},
   "outputs": [
    {
     "data": {
      "text/plain": [
       "array([[200, 220, 250],\n",
       "       [ 68,  79, 105],\n",
       "       [110, 140, 180],\n",
       "       [ 80,  85,  90]])"
      ]
     },
     "execution_count": 125,
     "metadata": {},
     "output_type": "execute_result"
    }
   ],
   "source": [
    "# Convert the df1 to numpy array, except the first column\n",
    "import numpy as np\n",
    "df1_array = df1.iloc[:,1:].values # Convert to numpy array, iLoc[]:,1] means all rows but columns all except first\n",
    "df1_array"
   ]
  },
  {
   "cell_type": "code",
   "execution_count": 123,
   "metadata": {},
   "outputs": [
    {
     "data": {
      "text/plain": [
       "array([[17000, 18700, 21250],\n",
       "       [ 5780,  6715,  8925],\n",
       "       [ 9350, 11900, 15300],\n",
       "       [ 6800,  7225,  7650]])"
      ]
     },
     "execution_count": 123,
     "metadata": {},
     "output_type": "execute_result"
    }
   ],
   "source": [
    "revenue_usd = df1_array * inr_to_usd\n",
    "revenue_usd"
   ]
  },
  {
   "cell_type": "markdown",
   "metadata": {},
   "source": [
    "Direct by defining numpy array"
   ]
  },
  {
   "cell_type": "code",
   "execution_count": 124,
   "metadata": {},
   "outputs": [
    {
     "data": {
      "text/plain": [
       "array([[17000, 18700, 21250],\n",
       "       [ 5780,  6715,  8925],\n",
       "       [ 9350, 11900, 15300],\n",
       "       [ 6800,  7225,  7650]])"
      ]
     },
     "execution_count": 124,
     "metadata": {},
     "output_type": "execute_result"
    }
   ],
   "source": [
    "revenues_usd = np.array([[200,220,250],[68,79,105],[110,140,180],[80,85,90]])\n",
    "revenues_inr = inr_to_usd * revenues_usd\n",
    "revenues_inr"
   ]
  },
  {
   "cell_type": "markdown",
   "metadata": {},
   "source": [
    "### Exercise 2: Calculate total flowers sale every month for divine flowers shop"
   ]
  },
  {
   "cell_type": "markdown",
   "metadata": {},
   "source": [
    "<img src=\"flowers.jpg\"  width=\"600\" />"
   ]
  },
  {
   "cell_type": "markdown",
   "metadata": {},
   "source": [
    "### Solution 1 : Using pandas\n"
   ]
  },
  {
   "cell_type": "code",
   "execution_count": 84,
   "metadata": {},
   "outputs": [
    {
     "name": "stdout",
     "output_type": "stream",
     "text": [
      "Units Sold Dataset:\n",
      "       Flower  Jan  Feb  Mar\n",
      "0       Rose   50   60   25\n",
      "1      Lotus   10   13    5\n",
      "2  Sunflower   40   70   52\n",
      "\n",
      "Price per Unit Dataset:\n",
      "       Flower  Price\n",
      "0       Rose     20\n",
      "1      Lotus     30\n",
      "2  Sunflower     15\n"
     ]
    }
   ],
   "source": [
    "import pandas as pd\n",
    "\n",
    "# Dataset 1: Units Sold per Month (Rows: Flowers, Columns: Months)\n",
    "df_units_sold = pd.DataFrame({\n",
    "    'Flower': ['Rose', 'Lotus', 'Sunflower'],\n",
    "    'Jan': [50, 10, 40],\n",
    "    'Feb': [60, 13, 70],  \n",
    "    'Mar': [25, 5, 52]  \n",
    "})\n",
    "\n",
    "# Dataset 2: Price per Unit for Each Flower (Constant across months)\n",
    "df_price_per_unit = pd.DataFrame({\n",
    "    'Flower': ['Rose', 'Lotus', 'Sunflower'],\n",
    "    'Price': [20, 30, 15]  # Price per unit in currency\n",
    "})\n",
    "\n",
    "# Display datasets\n",
    "print(\"Units Sold Dataset:\\n\", df_units_sold)\n",
    "print(\"\\nPrice per Unit Dataset:\\n\", df_price_per_unit)"
   ]
  },
  {
   "cell_type": "code",
   "execution_count": 99,
   "metadata": {},
   "outputs": [
    {
     "name": "stdout",
     "output_type": "stream",
     "text": [
      "Units Sold Array:\n",
      " [[50 60 25]\n",
      " [10 13  5]\n",
      " [40 70 52]]\n",
      "\n",
      "Price Array:\n",
      " [20 30 15]\n"
     ]
    }
   ],
   "source": [
    "# Using numpy\n",
    "import numpy as np\n",
    "\n",
    "# Convert units_sold (without 'Flower' column) to NumPy array\n",
    "units_sold = df_units_sold.iloc[:, 1:].values  # Shape (3,3)\n",
    "\n",
    "# Convert price DataFrame to NumPy array for fast calculations\n",
    "price_per_unit = df_price_per_unit.set_index('Flower')['Price'].values  # Shape: (3,)\n",
    "\n",
    "\n",
    "print(\"Units Sold Array:\\n\", units_sold)\n",
    "print(\"\\nPrice Array:\\n\", price_per_unit)\n"
   ]
  },
  {
   "cell_type": "code",
   "execution_count": 101,
   "metadata": {},
   "outputs": [
    {
     "data": {
      "text/plain": [
       "array([1900, 2640, 1430])"
      ]
     },
     "execution_count": 101,
     "metadata": {},
     "output_type": "execute_result"
    }
   ],
   "source": [
    "# Compute sales using dot product\n",
    "sales_values = np.dot(price_per_unit, units_sold)  # Matrix multiplication\n",
    "sales_values"
   ]
  },
  {
   "cell_type": "code",
   "execution_count": 107,
   "metadata": {},
   "outputs": [
    {
     "data": {
      "text/html": [
       "<div>\n",
       "<style scoped>\n",
       "    .dataframe tbody tr th:only-of-type {\n",
       "        vertical-align: middle;\n",
       "    }\n",
       "\n",
       "    .dataframe tbody tr th {\n",
       "        vertical-align: top;\n",
       "    }\n",
       "\n",
       "    .dataframe thead th {\n",
       "        text-align: right;\n",
       "    }\n",
       "</style>\n",
       "<table border=\"1\" class=\"dataframe\">\n",
       "  <thead>\n",
       "    <tr style=\"text-align: right;\">\n",
       "      <th></th>\n",
       "      <th>Flower</th>\n",
       "      <th>Jan</th>\n",
       "      <th>Feb</th>\n",
       "      <th>Mar</th>\n",
       "    </tr>\n",
       "  </thead>\n",
       "  <tbody>\n",
       "    <tr>\n",
       "      <th>0</th>\n",
       "      <td>Total Sales</td>\n",
       "      <td>1900</td>\n",
       "      <td>2640</td>\n",
       "      <td>1430</td>\n",
       "    </tr>\n",
       "  </tbody>\n",
       "</table>\n",
       "</div>"
      ],
      "text/plain": [
       "        Flower   Jan   Feb   Mar\n",
       "0  Total Sales  1900  2640  1430"
      ]
     },
     "execution_count": 107,
     "metadata": {},
     "output_type": "execute_result"
    }
   ],
   "source": [
    "# Convert sales_values into a DataFrame with same structure\n",
    "sales_df = pd.DataFrame([sales_values], columns=df_units_sold.columns[1:])\n",
    "sales_df.insert(0, 'Flower', ['Total Sales'])  # Add label for clarity\n",
    "sales_df"
   ]
  },
  {
   "cell_type": "code",
   "execution_count": 111,
   "metadata": {},
   "outputs": [
    {
     "data": {
      "text/plain": [
       "Text(0.5, 1.0, 'Total Sales per Month')"
      ]
     },
     "execution_count": 111,
     "metadata": {},
     "output_type": "execute_result"
    },
    {
     "data": {
      "image/png": "[encoded data removed]",
      "text/plain": [
       "<Figure size 500x300 with 1 Axes>"
      ]
     },
     "metadata": {},
     "output_type": "display_data"
    }
   ],
   "source": [
    "# Plot total sales per month\n",
    "from matplotlib import pyplot as plt\n",
    "plt.figure(figsize=(5,3))\n",
    "plt.bar(sales_df.columns[1:], sales_values, color='skyblue')\n",
    "plt.legend(['Total Sales'])\n",
    "plt.xlabel(\"Months\")\n",
    "plt.ylabel(\"Sales (Currency)\")\n",
    "plt.title(\"Total Sales per Month\")"
   ]
  },
  {
   "cell_type": "markdown",
   "metadata": {},
   "source": [
    "### Solution 2 - Using numpy \n",
    "direct assign into the numpy array and apply dot product\n",
    " - but the drawback here is we can't see which company or month the value belongs to"
   ]
  },
  {
   "cell_type": "code",
   "execution_count": 92,
   "metadata": {},
   "outputs": [],
   "source": [
    "units_sold = np.array([[50,60,25],[10,13,5],[40,70,52]])\n",
    "price_per_unit = np.array([20,30,15])"
   ]
  },
  {
   "cell_type": "code",
   "execution_count": 93,
   "metadata": {},
   "outputs": [
    {
     "name": "stdout",
     "output_type": "stream",
     "text": [
      "Units Sold Array:\n",
      " [[50 60 25]\n",
      " [10 13  5]\n",
      " [40 70 52]]\n",
      "\n",
      "Price Array:\n",
      " [20 30 15]\n"
     ]
    }
   ],
   "source": [
    "print(\"Units Sold Array:\\n\", units_sold)\n",
    "print(\"\\nPrice Array:\\n\", price_per_unit)"
   ]
  },
  {
   "cell_type": "code",
   "execution_count": 103,
   "metadata": {},
   "outputs": [
    {
     "data": {
      "text/plain": [
       "array([1900, 2640, 1430])"
      ]
     },
     "execution_count": 103,
     "metadata": {},
     "output_type": "execute_result"
    }
   ],
   "source": [
    "total_sales_amount = np.dot(price_per_unit,units_sold)\n",
    "total_sales_amount"
   ]
  }
 ],
 "metadata": {
  "kernelspec": {
   "display_name": "venv",
   "language": "python",
   "name": "python3"
  },
  "language_info": {
   "codemirror_mode": {
    "name": "ipython",
    "version": 3
   },
   "file_extension": ".py",
   "mimetype": "text/x-python",
   "name": "python",
   "nbconvert_exporter": "python",
   "pygments_lexer": "ipython3",
   "version": "3.10.11"
  }
 },
 "nbformat": 4,
 "nbformat_minor": 2
}
